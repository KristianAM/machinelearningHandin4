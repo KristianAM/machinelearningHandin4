{
 "cells": [
  {
   "cell_type": "code",
   "execution_count": 7,
   "metadata": {
    "collapsed": true
   },
   "outputs": [],
   "source": [
    "\"\"\"\n",
    "load data\n",
    "\"\"\"\n",
    "import sklearn.datasets\n",
    "import numpy as np\n",
    "import random\n",
    "\n",
    "iris = sklearn.datasets.load_iris()\n",
    "data = iris['data']\n",
    "labels = iris['target']"
   ]
  },
  {
   "cell_type": "code",
   "execution_count": 8,
   "metadata": {
    "collapsed": true
   },
   "outputs": [],
   "source": [
    "%matplotlib inline\n",
    "import matplotlib.pyplot as plt\n",
    "def plot_matrix(x, y, group, fmt='.', **kwargs):\n",
    "    \"\"\"\n",
    "    Given two d-dimensional datasets of n points,\n",
    "    makes a figure containing d x d plots, where the (i, j) plot\n",
    "    plots the ith dimension against the jth dimension.\n",
    "    \"\"\"\n",
    "\n",
    "    x = np.asarray(x)\n",
    "    y = np.asarray(y)\n",
    "    group = np.squeeze(np.asarray(group))\n",
    "    n, p = x.shape\n",
    "    n_, q = y.shape\n",
    "    n__, = group.shape\n",
    "    assert n == n_ == n__\n",
    "    groups = sorted(set(group))\n",
    "    if isinstance(fmt, str):\n",
    "        fmt = {k: fmt for k in groups}\n",
    "    fig, axes = plt.subplots(p, q, squeeze=False, **kwargs)\n",
    "    for i, axrow in enumerate(axes):\n",
    "        for j, ax in enumerate(axrow):\n",
    "            for g in groups:\n",
    "                ax.plot(x[group == g, i], y[group == g, j], fmt[g])\n",
    "            if len(axes) > 2:\n",
    "                ax.locator_params(tight=True, nbins=4)\n",
    "\n",
    "def plot_groups(x, group, fmt='.', **kwargs):\n",
    "    \"\"\"\n",
    "    Helper function for plotting a 2-dimensional dataset with groups\n",
    "    using plot_matrix.\n",
    "    \"\"\"\n",
    "    n, d = x.shape\n",
    "    assert d == 2\n",
    "    x1 = x[:, 0].reshape(n, 1)\n",
    "    x2 = x[:, 1].reshape(n, 1)\n",
    "    plot_matrix(x1, x2, group, fmt, **kwargs)"
   ]
  },
  {
   "cell_type": "code",
   "execution_count": 15,
   "metadata": {
    "collapsed": false
   },
   "outputs": [],
   "source": [
    "def closest(data, centers):\n",
    "    n, d = data.shape\n",
    "    k, d_ = centers.shape\n",
    "    assert d == d_\n",
    "    \n",
    "    rep = np.zeros(n,)\n",
    "    for i in range(n):\n",
    "        distance = np.sum(np.sqrt((data[i] - centers)**2), axis = 1)\n",
    "        rep[i] = np.argmin(distance)\n",
    "        \n",
    "    assert rep.shape == (n,)\n",
    "    assert np.all((0 <= rep) & (rep < k))\n",
    "    rep = rep.astype('int')\n",
    "    return rep\n",
    "\n",
    "\n",
    "def kmeans_cost(data, centers, rep):\n",
    "    n, d = data.shape\n",
    "    k, d_ = centers.shape\n",
    "    assert d == d_\n",
    "    assert rep.shape == (n,)\n",
    "    data_rep = centers[rep]\n",
    "    cost = 0\n",
    "    for i in range(n):\n",
    "        cost += np.sum((data[i] - data_rep[i])**2)\n",
    "    return cost\n",
    "\n",
    "\"\"\"\n",
    "K-means clustering algorithm\n",
    "args:\n",
    "D = dataset\n",
    "k = number of clusters\n",
    "epsilon = convergence threshold\n",
    "\"\"\"\n",
    "\n",
    "def k_means(D, k, epsilon, verbose = True):\n",
    "    n,d = D.shape\n",
    "    \"\"\"\n",
    "    init random centroids\n",
    "    centroids is a k,d array where element i,j is the jth value of the ith centroid\n",
    "    assign each data point to a closest centroid\n",
    "    recaulculate clusters as mean of all elements in cluster\n",
    "    if cluster is empty, reassign randomly.\n",
    "    calculate distance between new and old clusters\n",
    "    if distance is smaller than epsilon, terminate\n",
    "    \"\"\"\n",
    "    maximum = np.amax(D, axis = 0)\n",
    "    minimum = np.amin(D, axis = 0)\n",
    "    centers = np.zeros((k,d))\n",
    "    for i in range(len(centers)):\n",
    "        for j in range(d):\n",
    "            centers[i,j] = random.uniform(minimum[j], maximum[j])\n",
    "    old_centers = np.zeros_like(centers)\n",
    "    tired = False\n",
    "    \n",
    "    while not tired:\n",
    "        old_centers[:] = centers\n",
    "        rep = closest(D, centers)\n",
    "        for i in range(k):\n",
    "            indices = np.where(rep == i)[0]\n",
    "            if len(indices) == 0:\n",
    "                   for j in range(d):\n",
    "                       print('tom')\n",
    "                       centers[i,j] = random.uniform(minimum[j], maximum[j])\n",
    "            else:\n",
    "                centers[i] = np.sum(D[indices], axis = 0)/len(indices)\n",
    "            \n",
    "        dist = np.sqrt(((centers - old_centers) ** 2).sum(axis=1))\n",
    "        tired = np.max(dist) <= epsilon\n",
    "        cost = kmeans_cost(D, centers, rep)\n",
    "        if verbose == True:\n",
    "            print(cost)\n",
    "    return centers, rep, cost\n",
    "\n",
    "def k_means_opt(D, k, epsilon, n):\n",
    "    centers = []\n",
    "    rep = []\n",
    "    cost = []\n",
    "    for i in range(n):\n",
    "        res = k_means(D, k, epsilon, verbose = False)\n",
    "        centers.append(res[0])\n",
    "        rep.append(res[1])\n",
    "        cost.append(res[2])\n",
    "    j = np.argmin(cost)\n",
    "    return centers[j], rep[j], cost[j]"
   ]
  },
  {
   "cell_type": "code",
   "execution_count": 43,
   "metadata": {
    "collapsed": false
   },
   "outputs": [
    {
     "name": "stdout",
     "output_type": "stream",
     "text": [
      "97.7071302178\n",
      "59.6898050656\n",
      "44.4346494325\n",
      "43.5710256304\n",
      "42.7347971014\n",
      "41.8794\n",
      "41.6635242874\n",
      "41.9343284374\n",
      "41.5894269294\n",
      "41.522989071\n",
      "41.522989071\n"
     ]
    }
   ],
   "source": [
    "data_2d = data[:, 1:3]\n",
    "#centers, rep, cost = k_means_opt(data_2d, 3, 1e-4, 50)\n",
    "\n",
    "centers, rep, cost = k_means(data_2d, 3, 1e-3)"
   ]
  },
  {
   "cell_type": "code",
   "execution_count": 44,
   "metadata": {
    "collapsed": false
   },
   "outputs": [
    {
     "name": "stdout",
     "output_type": "stream",
     "text": [
      "[[ 3.418       1.464     ]\n",
      " [ 2.7442623   4.38196721]\n",
      " [ 3.07179487  5.72564103]]\n"
     ]
    },
    {
     "data": {
      "image/png": "[encoded data removed]",
      "text/plain": [
       "<matplotlib.figure.Figure at 0x7efe859be0b8>"
      ]
     },
     "metadata": {},
     "output_type": "display_data"
    },
    {
     "data": {
      "image/png": "[encoded data removed]",
      "text/plain": [
       "<matplotlib.figure.Figure at 0x7efe85898d68>"
      ]
     },
     "metadata": {},
     "output_type": "display_data"
    }
   ],
   "source": [
    "print(centers)\n",
    "plot_groups(data_2d, rep, {0: 'o', 1: 's', 2: '^'}, figsize=(4, 4))\n",
    "plot_groups(data_2d, labels, {0: 'o', 1: 's', 2: '^'}, figsize=(4, 4))\n"
   ]
  }
 ],
 "metadata": {
  "anaconda-cloud": {},
  "kernelspec": {
   "display_name": "Python [python3]",
   "language": "python",
   "name": "Python [python3]"
  },
  "language_info": {
   "codemirror_mode": {
    "name": "ipython",
    "version": 3
   },
   "file_extension": ".py",
   "mimetype": "text/x-python",
   "name": "python",
   "nbconvert_exporter": "python",
   "pygments_lexer": "ipython3",
   "version": "3.5.2"
  }
 },
 "nbformat": 4,
 "nbformat_minor": 0
}
